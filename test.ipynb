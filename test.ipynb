{
 "cells": [
  {
   "cell_type": "code",
   "execution_count": 1,
   "id": "3cc3d5b1",
   "metadata": {},
   "outputs": [],
   "source": [
    "from google import genai\n",
    "from google.genai import types\n",
    "import pathlib\n",
    "import httpx\n",
    "import pandas as pd\n",
    "from dotenv import load_dotenv\n",
    "import io"
   ]
  },
  {
   "cell_type": "code",
   "execution_count": 2,
   "id": "2f480265",
   "metadata": {},
   "outputs": [
    {
     "data": {
      "text/plain": [
       "True"
      ]
     },
     "execution_count": 2,
     "metadata": {},
     "output_type": "execute_result"
    }
   ],
   "source": [
    "load_dotenv()"
   ]
  },
  {
   "cell_type": "code",
   "execution_count": 29,
   "id": "ba76283b",
   "metadata": {},
   "outputs": [],
   "source": [
    "client = genai.Client()"
   ]
  },
  {
   "cell_type": "code",
   "execution_count": 43,
   "id": "2ae55e8b",
   "metadata": {},
   "outputs": [],
   "source": [
    "filepath = pathlib.Path(\"Z:\\\\Maitra & Co\\\\Clients\\\\S\\\\Sinha Niranjan & Sulochana\\\\Sinha Sulochana\\\\AY 25-26\\\\Income tax\\\\Bank Statement\\\\automation_image_(don't_touch).pdf\")"
   ]
  },
  {
   "cell_type": "code",
   "execution_count": 44,
   "id": "fa746e54",
   "metadata": {},
   "outputs": [],
   "source": [
    "myfile = client.files.upload(file=filepath)"
   ]
  },
  {
   "cell_type": "code",
   "execution_count": 33,
   "id": "01a2f1ce",
   "metadata": {},
   "outputs": [],
   "source": [
    "prompt = \"\"\"\n",
    "Extract all transactions from the provided financial document (statement or passbook) into a raw CSV string.\n",
    "\n",
    "**Output Schema & Headers (7 columns, exact order):**\n",
    "`Date,ChequeNo,Narration,ValueDate,WithdrawalAmount,DepositAmount,ClosingBalance`\n",
    "\n",
    "**Processing Rules:**\n",
    "- **Combine Multi-line Narration:** Merge multi-line transaction descriptions (like 'Particulars' or 'Narration') into a single field with spaces.\n",
    "- **Handle Missing Columns:** If a source document has no 'ValueDate', keep the column in the header but leave its data fields empty.\n",
    "- **Data Cleaning:** Remove all non-numeric characters from amount columns (e.g., '₹', ',', 'Cr', 'Dr'). `1,234.56 Cr` must become `1234.56`.\n",
    "- **Zero Values:** Represent empty or zero withdrawals/deposits as `0.00`.\n",
    "- **CRITICAL COMMA RULE:** If any field's text contains a comma, enclose that entire field in double quotes. Example: `...,\"Transfer, Savings Account\",...`\n",
    "- **Exclusions:** Do not include any summary or footer lines (e.g., 'Clear Balance', 'Carried Forward', 'We provide ATM Cards...').\n",
    "\n",
    "**Final Output:**\n",
    "- Raw CSV text only.\n",
    "- No explanations, summaries, or markdown ` ``` `.\n",
    "- Start directly with the header row.\n",
    "\"\"\""
   ]
  },
  {
   "cell_type": "code",
   "execution_count": 45,
   "id": "8763fcac",
   "metadata": {},
   "outputs": [],
   "source": [
    "response = client.models.generate_content(\n",
    "  model=\"gemini-2.5-flash-preview-04-17\",\n",
    "  contents=[prompt, myfile])"
   ]
  },
  {
   "cell_type": "code",
   "execution_count": 46,
   "id": "637689ac",
   "metadata": {},
   "outputs": [
    {
     "name": "stdout",
     "output_type": "stream",
     "text": [
      "Date,ChequeNo,Narration,ValueDate,WithdrawalAmount,DepositAmount,ClosingBalance\n",
      "19/04/24,,INT ON QIDR3620367554,,0.00,13050.00,111140.15\n",
      "29/04/24,,INT ON QIDR3534651750,,0.00,3263.00,114403.15\n",
      "04/05/24,,INT ON QIDR3476848163,,0.00,8157.00,122560.15\n",
      "25/05/24,,INT ON SB,,0.00,740.00,123300.15\n",
      "31/05/24,,INT ON QIDR3562491145,,0.00,4639.00,127939.15\n",
      "01/07/24,,WDL TFR Via Standing I,,2714.00,0.00,125225.15\n",
      "12/07/24,,INT ON QIDR3657106784,,0.00,157.00,125382.15\n",
      "19/07/24,,INT ON QIDR3620367554,,0.00,13050.00,138432.15\n",
      "29/07/24,,INT ON QIDR3534651750,,0.00,3263.00,141695.15\n",
      "04/08/24,,INT ON QIDR347684816,,0.00,8156.00,149851.15\n",
      "24/08/24,,INT ON SR,,0.00,937.00,150788.15\n",
      "31/08/24,,INT ON QIDR3562491145,,0.00,4640.00,155428.15\n",
      "12/10/24,,INT ON QIDR3657106781,,0.00,158.00,155586.15\n",
      "19/10/24,,INT ON QIDR3620367554,,0.00,13230.00,168816.15\n",
      "29/10/24,,INT ON QIDR3534651750,,0.00,3262.00,172078.15\n",
      "04/11/24,,INT. ON QIDR3476848163,,0.00,8270.00,180348.15\n",
      "23/11/24,,INT ON SB3021,,0.00,1139.00,181487.15\n",
      "30/11/24,,INT ON QIDR3562491145,,0.00,4641.00,186128.15\n",
      "16/12/24,,\"TRE FRM M NIRANJAN KU Mr NIRANJAN KUMAR SINH\",,0.00,800000.00,986128.15\n",
      "12/01/25,,INT ON QIDR3657106781,,0.00,157.00,986285.15\n",
      "19/01/25,,INT ON QIDR3620367554,,0.00,13230.00,999515.15\n",
      "29/01/25,,INT ON QIDR3534651750,,0.00,3263.00,1002778.15\n",
      "04/02/25,,INT ON QIDR3476848163,,0.00,8269.00,1011047.15\n",
      "22/02/25,,INT ON SB,,0.00,5586.00,1016633.15\n"
     ]
    }
   ],
   "source": [
    "print(response.text)"
   ]
  },
  {
   "cell_type": "code",
   "execution_count": 47,
   "id": "afb6f724",
   "metadata": {},
   "outputs": [
    {
     "data": {
      "text/plain": [
       "DeleteFileResponse()"
      ]
     },
     "execution_count": 47,
     "metadata": {},
     "output_type": "execute_result"
    }
   ],
   "source": [
    "client.files.delete(name=myfile.name)"
   ]
  },
  {
   "cell_type": "code",
   "execution_count": 48,
   "id": "97e94cc7",
   "metadata": {},
   "outputs": [],
   "source": [
    "doc = io.StringIO(response.text)"
   ]
  },
  {
   "cell_type": "code",
   "execution_count": 49,
   "id": "16f806f1",
   "metadata": {},
   "outputs": [
    {
     "name": "stdout",
     "output_type": "stream",
     "text": [
      "        Date  ChequeNo              Narration  ValueDate  WithdrawalAmount  \\\n",
      "19  12/01/25       NaN  INT ON QIDR3657106781        NaN               0.0   \n",
      "20  19/01/25       NaN  INT ON QIDR3620367554        NaN               0.0   \n",
      "21  29/01/25       NaN  INT ON QIDR3534651750        NaN               0.0   \n",
      "22  04/02/25       NaN  INT ON QIDR3476848163        NaN               0.0   \n",
      "23  22/02/25       NaN              INT ON SB        NaN               0.0   \n",
      "\n",
      "    DepositAmount  ClosingBalance  \n",
      "19          157.0       986285.15  \n",
      "20        13230.0       999515.15  \n",
      "21         3263.0      1002778.15  \n",
      "22         8269.0      1011047.15  \n",
      "23         5586.0      1016633.15  \n"
     ]
    }
   ],
   "source": [
    "df_psb = pd.read_csv(doc, sep=',',engine='python')\n",
    "print(df_psb.tail(5))"
   ]
  }
 ],
 "metadata": {
  "kernelspec": {
   "display_name": ".venv",
   "language": "python",
   "name": "python3"
  },
  "language_info": {
   "codemirror_mode": {
    "name": "ipython",
    "version": 3
   },
   "file_extension": ".py",
   "mimetype": "text/x-python",
   "name": "python",
   "nbconvert_exporter": "python",
   "pygments_lexer": "ipython3",
   "version": "3.11.9"
  }
 },
 "nbformat": 4,
 "nbformat_minor": 5
}
