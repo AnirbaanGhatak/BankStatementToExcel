{
 "cells": [
  {
   "cell_type": "code",
   "execution_count": 1,
   "id": "3cc3d5b1",
   "metadata": {},
   "outputs": [],
   "source": [
    "from google import genai\n",
    "from google.genai import types\n",
    "import pathlib\n",
    "import httpx\n",
    "import pandas as pd\n",
    "from dotenv import load_dotenv"
   ]
  },
  {
   "cell_type": "code",
   "execution_count": 2,
   "id": "2f480265",
   "metadata": {},
   "outputs": [
    {
     "data": {
      "text/plain": [
       "True"
      ]
     },
     "execution_count": 2,
     "metadata": {},
     "output_type": "execute_result"
    }
   ],
   "source": [
    "load_dotenv()"
   ]
  },
  {
   "cell_type": "code",
   "execution_count": 3,
   "id": "ba76283b",
   "metadata": {},
   "outputs": [],
   "source": [
    "client = genai.Client()"
   ]
  },
  {
   "cell_type": "code",
   "execution_count": 4,
   "id": "2ae55e8b",
   "metadata": {},
   "outputs": [],
   "source": [
    "filepath = pathlib.Path('Z:\\\\Maitra & Co\\\\Clients\\\\S\\\\Sodha Ashwin_Heena\\\\Ashwin Sodha\\\\AY 2025-26\\\\Income Tax\\\\Data from client\\\\Ashwin Sodha- 1_merged.pdf')"
   ]
  },
  {
   "cell_type": "code",
   "execution_count": 5,
   "id": "01a2f1ce",
   "metadata": {},
   "outputs": [],
   "source": [
    "prompt = \"\"\"Your task is to act as a meticulous data extraction assistant. Analyze the provided bank statement PDF and extract all transaction data into a clean, raw CSV format.\n",
    "Follow these instructions precisely:\n",
    "1. CSV Headers: Use the following exact headers for the CSV output:\n",
    "TransactionDate,Narration,ChequeRefNo,ValueDate,WithdrawalAmount,DepositAmount,ClosingBalance\n",
    "2. Data Extraction Rules:\n",
    "The \"Narration\" column in the PDF often spans multiple lines for a single transaction. You must combine all lines of the narration for a single transaction into one field in the CSV. Use a single space to separate the combined text.\n",
    "The first entry is \"BALANCE BROUGHT FORWARD\". Treat this as the first data row.\n",
    "Process all pages of the document and create a single, continuous CSV. Ignore the repeating table headers on all subsequent pages.\n",
    "3. Data Cleaning Rules:\n",
    "For the WithdrawalAmount, DepositAmount, and ClosingBalance columns, remove all commas (e.g., \"305,951.68\" must become \"305951.68\").\n",
    "If a withdrawal or deposit amount is empty or \"0.00\", represent it as 0.00.\n",
    "4. Output Format:\n",
    "Your entire response must only be the raw CSV text.\n",
    "Do not include any introductory sentences, explanations, summaries, or markdown code blocks like csv. Start directly with the header row.\"\"\""
   ]
  },
  {
   "cell_type": "code",
   "execution_count": 6,
   "id": "8763fcac",
   "metadata": {},
   "outputs": [],
   "source": [
    "response = client.models.generate_content(\n",
    "  model=\"gemini-2.5-flash\",\n",
    "  contents=[\n",
    "      types.Part.from_bytes(\n",
    "        data=filepath.read_bytes(),\n",
    "        mime_type='application/pdf',\n",
    "      ),\n",
    "      prompt])"
   ]
  },
  {
   "cell_type": "code",
   "execution_count": null,
   "id": "637689ac",
   "metadata": {},
   "outputs": [],
   "source": [
    "print(response.text.)"
   ]
  },
  {
   "cell_type": "code",
   "execution_count": null,
   "id": "16f806f1",
   "metadata": {},
   "outputs": [
    {
     "name": "stdout",
     "output_type": "stream",
     "text": [
      "                                    0  \\\n",
      "4                       model_version   \n",
      "5                     prompt_feedback   \n",
      "6                      usage_metadata   \n",
      "7  automatic_function_calling_history   \n",
      "8                              parsed   \n",
      "\n",
      "                                                   1  \n",
      "4                                   gemini-2.5-flash  \n",
      "5                                               None  \n",
      "6  cache_tokens_details=None cached_content_token...  \n",
      "7                                                 []  \n",
      "8                                               None  \n"
     ]
    }
   ],
   "source": [
    "df = pd.DataFrame(response.text)\n",
    "print(df.tail(5))"
   ]
  }
 ],
 "metadata": {
  "kernelspec": {
   "display_name": ".venv",
   "language": "python",
   "name": "python3"
  },
  "language_info": {
   "codemirror_mode": {
    "name": "ipython",
    "version": 3
   },
   "file_extension": ".py",
   "mimetype": "text/x-python",
   "name": "python",
   "nbconvert_exporter": "python",
   "pygments_lexer": "ipython3",
   "version": "3.11.9"
  }
 },
 "nbformat": 4,
 "nbformat_minor": 5
}
