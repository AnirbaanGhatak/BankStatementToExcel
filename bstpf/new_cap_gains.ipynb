{
 "cells": [
  {
   "cell_type": "code",
   "execution_count": 38,
   "id": "277eb111",
   "metadata": {},
   "outputs": [
    {
     "name": "stdout",
     "output_type": "stream",
     "text": [
      "Collecting pdfplumber\n",
      "  Downloading pdfplumber-0.11.7-py3-none-any.whl.metadata (42 kB)\n",
      "Requirement already satisfied: pdfminer.six==20250506 in c:\\users\\dell\\coe\\.venv\\lib\\site-packages (from pdfplumber) (20250506)\n",
      "Requirement already satisfied: Pillow>=9.1 in c:\\users\\dell\\coe\\.venv\\lib\\site-packages (from pdfplumber) (10.4.0)\n",
      "Requirement already satisfied: pypdfium2>=4.18.0 in c:\\users\\dell\\coe\\.venv\\lib\\site-packages (from pdfplumber) (4.30.0)\n",
      "Requirement already satisfied: charset-normalizer>=2.0.0 in c:\\users\\dell\\coe\\.venv\\lib\\site-packages (from pdfminer.six==20250506->pdfplumber) (3.4.2)\n",
      "Requirement already satisfied: cryptography>=36.0.0 in c:\\users\\dell\\coe\\.venv\\lib\\site-packages (from pdfminer.six==20250506->pdfplumber) (45.0.5)\n",
      "Requirement already satisfied: cffi>=1.14 in c:\\users\\dell\\coe\\.venv\\lib\\site-packages (from cryptography>=36.0.0->pdfminer.six==20250506->pdfplumber) (1.17.1)\n",
      "Requirement already satisfied: pycparser in c:\\users\\dell\\coe\\.venv\\lib\\site-packages (from cffi>=1.14->cryptography>=36.0.0->pdfminer.six==20250506->pdfplumber) (2.22)\n",
      "Downloading pdfplumber-0.11.7-py3-none-any.whl (60 kB)\n",
      "Installing collected packages: pdfplumber\n",
      "Successfully installed pdfplumber-0.11.7\n",
      "Note: you may need to restart the kernel to use updated packages.\n"
     ]
    },
    {
     "name": "stderr",
     "output_type": "stream",
     "text": [
      "\n",
      "[notice] A new release of pip is available: 25.1.1 -> 25.2\n",
      "[notice] To update, run: python.exe -m pip install --upgrade pip\n"
     ]
    }
   ],
   "source": [
    "%pip install pdfplumber"
   ]
  },
  {
   "cell_type": "code",
   "execution_count": 40,
   "id": "aa6836b8",
   "metadata": {},
   "outputs": [],
   "source": [
    "import pdfplumber\n",
    "\n"
   ]
  },
  {
   "cell_type": "code",
   "execution_count": 41,
   "id": "1564d0e9",
   "metadata": {},
   "outputs": [],
   "source": [
    "pdf_path = \"JBCAP.pdf\""
   ]
  },
  {
   "cell_type": "code",
   "execution_count": 73,
   "id": "6b33757f",
   "metadata": {},
   "outputs": [],
   "source": [
    "# Read tables from a PDF file\n",
    "pf = pdfplumber.open(pdf_path)"
   ]
  },
  {
   "cell_type": "code",
   "execution_count": 74,
   "id": "18df3d3d",
   "metadata": {},
   "outputs": [],
   "source": [
    "pgs = pf.pages\n",
    "data = []"
   ]
  },
  {
   "cell_type": "code",
   "execution_count": 75,
   "id": "a87b811c",
   "metadata": {},
   "outputs": [],
   "source": [
    "for pg in range(79,140):\n",
    "    z = pf.pages[pg].extract_table(table_settings={\"vertical_strategy\": \"text\"})\n",
    "    if z:\n",
    "        data.extend(z)"
   ]
  },
  {
   "cell_type": "code",
   "execution_count": 69,
   "id": "baac0f9c",
   "metadata": {},
   "outputs": [
    {
     "name": "stdout",
     "output_type": "stream",
     "text": [
      "[['', 'Sale Detai', 'ls', '', '', '', 'Purchase Deta', 'ils', '', '', '', 'Gain / Loss', ''], ['Sell Date', 'Quantity', 'Sell Rate', 'Total Sale\\nValue', 'Purchase\\nDate', 'Purchase Stamp\\nRate Duty', 'Actual Cost', 'FMV as on\\n31-01-2018/\\nIndexed Rate', 'Applicable\\nE\\nRate', 'ffective Cost', 'Days\\nHeld', 'Short Term Long Term', 'Effective'], ['Equity', '', '', '', '', '', '', '', '', '', '', '', ''], ['AADHAR HOUSIN', 'G FINANCE L', 'TD', '', '', '', '', '', '', '', '', '', ''], ['23-Sep-2024', '5,000', '497.744', '24,88,720.40\\n13,03,094.00\\n1,36,19,664.74\\n12,61,080.07\\n12,61,080.07\\n12,61,080.07\\n12,61,080.07\\n15,13,296.08\\n12,01,557.09\\n2,51,70,652.59', '12-Jun-2024', '387.09', '19,35,464.50', '', '387.09', '19,35,464.50', '103', '5,53,256.11', ''], ['23-Sep-2024', '2,618', '497.744', None, '12-Jun-2024', '387.09', '10,13,409.21', '', '387.09', '10,13,409.21', '103', '2,89,684.90', ''], ['24-Sep-2024', '27,000', '504.432', None, '12-Jun-2024', '387.09', '1,04,51,508.30', '', '387.09', '1,04,51,508.30', '104', '31,68,157.59', ''], ['24-Sep-2024', '2,500', '504.432', None, '12-Jun-2024', '387.09', '9,67,732.25', '', '387.09', '9,67,732.25', '104', '2,93,347.93', ''], ['24-Sep-2024', '2,500', '504.432', None, '12-Jun-2024', '387.09', '9,67,732.25', '', '387.09', '9,67,732.25', '104', '2,93,347.93', ''], ['24-Sep-2024', '2,500', '504.432', None, '12-Jun-2024', '387.09', '9,67,732.25', '', '387.09', '9,67,732.25', '104', '2,93,347.93', ''], ['24-Sep-2024', '2,500', '504.432', None, '12-Jun-2024', '387.09', '9,67,732.25', '', '387.09', '9,67,732.25', '104', '2,93,347.93', ''], ['24-Sep-2024', '3,000', '504.432', None, '12-Jun-2024', '387.09', '11,61,278.70', '', '387.09', '11,61,278.70', '104', '3,52,017.51', ''], ['24-Sep-2024', '2,382', '504.432', None, '12-Jun-2024', '387.09', '9,22,055.29', '', '387.09', '9,22,055.29', '104', '2,79,501.90', ''], ['Total', '50000', '', None, '', '', '1,93,54,645.00', '', '', '1,93,54,645.00', '', '58,16,009.73', ''], ['AARTI INDUSTRI', 'ES LTD', '', '', '', '', '', '', '', '', '', '', ''], ['06-May-2024', '1,243', '746.927', '9,28,429.73\\n37,34,632.84\\n14,77,817.36\\n12,98,262.55\\n16,57,372.17\\n14,77,817.36\\n5,59,353.87\\n33,72,677.83\\n1,45,06,363.71', '21-Feb-2024', '707.30', '8,79,172.66', '', '707.3', '8,79,172.66', '75', '49,257.10', ''], ['06-May-2024', '5,000', '746.927', None, '21-Feb-2024', '707.30', '35,36,495.00', '', '707.3', '35,36,495.00', '75', '1,98,137.97', ''], ['07-May-2024', '2,000', '738.909', None, '21-Feb-2024', '707.30', '14,14,598.00', '', '707.3', '14,14,598.00', '76', '63,219.41', ''], ['07-May-2024', '1,757', '738.909', None, '21-Feb-2024', '707.30', '12,42,724.34', '', '707.3', '12,42,724.34', '76', '55,538.25', ''], ['07-May-2024', '2,243', '738.909', None, '26-Feb-2024', '677.12', '15,18,771.41', '', '677.12', '15,18,771.41', '71', '1,38,600.79', ''], ['07-May-2024', '2,000', '738.909', None, '26-Feb-2024', '677.12', '13,54,232.20', '', '677.12', '13,54,232.20', '71', '1,23,585.19', ''], ['07-May-2024', '757', '738.909', None, '26-Feb-2024', '677.12', '5,12,576.89', '', '677.12', '5,12,576.89', '71', '46,777.00', ''], ['14-Jun-2024', '5,000', '674.536', None, '26-Feb-2024', '677.12', '33,85,580.50', '', '677.12', '33,85,580.50', '109', '(12,902.58)', ''], ['Total', '20000', '', None, '', '', '1,38,44,151.00', '', '', '1,38,44,151.00', '', '6,62,213.13', ''], ['ADANI ENERGY S', 'OLUTIONS L', 'TD', '', '', '', '', '', '', '', '', '', ''], ['26-Jun-2024', '2,970', '1018.291', '30,24,325.15\\n20,29,669.93\\n49,99,187.03\\n1,00,53,182.11', '18-Jun-2024', '1,031.15', '30,62,501.54', '', '1,031.15', '30,62,501.54', '8', '(38,176.32)', ''], ['01-Jul-2024', '2,030', '999.837', None, '18-Jun-2024', '1,031.15', '20,93,224.96', '', '1,031.15', '20,93,224.96', '13', '(63,554.98)', ''], ['01-Jul-2024', '5,000', '999.837', None, '18-Jun-2024', '1,031.15', '51,55,726.50', '', '1,031.15', '51,55,726.50', '13', '(1,56,539.36)', ''], ['Total', '10000', '', None, '', '', '1,03,11,453.00', '', '', '1,03,11,453.00', '', '(2,58,270.66)', ''], ['ADITYA BIRLA C', 'APITAL LTD', '', '', '', '', '', '', '', '', '', '', ''], ['', '', '', '', '', '', '', '', '', '', '', '', '']]\n"
     ]
    }
   ],
   "source": [
    "print(z)"
   ]
  },
  {
   "cell_type": "code",
   "execution_count": 70,
   "id": "0773c78a",
   "metadata": {},
   "outputs": [],
   "source": [
    "import pandas\n",
    "import numpy as np\n",
    "df = pandas.DataFrame(np.array(z))"
   ]
  }
 ],
 "metadata": {
  "kernelspec": {
   "display_name": ".venv",
   "language": "python",
   "name": "python3"
  },
  "language_info": {
   "codemirror_mode": {
    "name": "ipython",
    "version": 3
   },
   "file_extension": ".py",
   "mimetype": "text/x-python",
   "name": "python",
   "nbconvert_exporter": "python",
   "pygments_lexer": "ipython3",
   "version": "3.11.9"
  }
 },
 "nbformat": 4,
 "nbformat_minor": 5
}
