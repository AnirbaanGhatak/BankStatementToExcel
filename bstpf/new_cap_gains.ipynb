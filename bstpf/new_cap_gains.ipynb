{
 "cells": [
  {
   "cell_type": "code",
   "execution_count": 1,
   "id": "277eb111",
   "metadata": {},
   "outputs": [
    {
     "name": "stdout",
     "output_type": "stream",
     "text": [
      "Requirement already satisfied: pdfplumber in c:\\users\\dell\\coe\\.venv\\lib\\site-packages (0.11.7)\n",
      "Requirement already satisfied: pdfminer.six==20250506 in c:\\users\\dell\\coe\\.venv\\lib\\site-packages (from pdfplumber) (20250506)\n",
      "Requirement already satisfied: Pillow>=9.1 in c:\\users\\dell\\coe\\.venv\\lib\\site-packages (from pdfplumber) (10.4.0)\n",
      "Requirement already satisfied: pypdfium2>=4.18.0 in c:\\users\\dell\\coe\\.venv\\lib\\site-packages (from pdfplumber) (4.30.0)\n",
      "Requirement already satisfied: charset-normalizer>=2.0.0 in c:\\users\\dell\\coe\\.venv\\lib\\site-packages (from pdfminer.six==20250506->pdfplumber) (3.4.2)\n",
      "Requirement already satisfied: cryptography>=36.0.0 in c:\\users\\dell\\coe\\.venv\\lib\\site-packages (from pdfminer.six==20250506->pdfplumber) (45.0.5)\n",
      "Requirement already satisfied: cffi>=1.14 in c:\\users\\dell\\coe\\.venv\\lib\\site-packages (from cryptography>=36.0.0->pdfminer.six==20250506->pdfplumber) (1.17.1)\n",
      "Requirement already satisfied: pycparser in c:\\users\\dell\\coe\\.venv\\lib\\site-packages (from cffi>=1.14->cryptography>=36.0.0->pdfminer.six==20250506->pdfplumber) (2.22)\n",
      "Note: you may need to restart the kernel to use updated packages.\n"
     ]
    },
    {
     "name": "stderr",
     "output_type": "stream",
     "text": [
      "\n",
      "[notice] A new release of pip is available: 25.1.1 -> 25.2\n",
      "[notice] To update, run: python.exe -m pip install --upgrade pip\n"
     ]
    }
   ],
   "source": [
    "%pip install pdfplumber"
   ]
  },
  {
   "cell_type": "code",
   "execution_count": 2,
   "id": "aa6836b8",
   "metadata": {},
   "outputs": [],
   "source": [
    "import pdfplumber\n",
    "\n"
   ]
  },
  {
   "cell_type": "code",
   "execution_count": 3,
   "id": "1564d0e9",
   "metadata": {},
   "outputs": [],
   "source": [
    "pdf_path = \"JBCAP.pdf\""
   ]
  },
  {
   "cell_type": "code",
   "execution_count": 4,
   "id": "6b33757f",
   "metadata": {},
   "outputs": [],
   "source": [
    "# Read tables from a PDF file\n",
    "pf = pdfplumber.open(pdf_path)"
   ]
  },
  {
   "cell_type": "code",
   "execution_count": 5,
   "id": "18df3d3d",
   "metadata": {},
   "outputs": [],
   "source": [
    "pgs = pf.pages\n",
    "data = []"
   ]
  },
  {
   "cell_type": "code",
   "execution_count": 6,
   "id": "a87b811c",
   "metadata": {},
   "outputs": [],
   "source": [
    "for pg in range(79,140):\n",
    "    z = pf.pages[pg].extract_table(table_settings={\"vertical_strategy\": \"text\"})\n",
    "    if z:\n",
    "        data.extend(z)"
   ]
  },
  {
   "cell_type": "code",
   "execution_count": 7,
   "id": "baac0f9c",
   "metadata": {},
   "outputs": [
    {
     "name": "stdout",
     "output_type": "stream",
     "text": [
      "[['', 'Sale Details', '', '', '', '', 'Purchase Deta', 'ils', '', '', '', 'G', 'ain / Loss', ''], ['Sell Date', 'Quantity S', 'ell Rate', 'Total Sale\\nValue', 'Purchase\\nDate', 'Purchase Stamp\\nRate Duty', 'Actual Cost', 'FMV as on\\n31-01-2018/\\nIndexed Rate', 'Applicable\\nE\\nRate', 'ffective Cost', 'Days\\nHeld', 'Short Term', 'Long Term', 'Effective LT'], ['21-Aug-2024', '325', '968.381', '3,14,723.71\\n16,17,507.17\\n14,37,867.00\\n9,58,578.00\\n4,80,513.96\\n4,80,513.96\\n14,28,675.90\\n9,70,146.33\\n9,70,146.33\\n9,70,146.33\\n6,69,92,612.94', '07-Jun-2023', '92.59', '30,091.46', '', '92.59', '30,091.46', '441', '', '2,84,632.25', '2,84,632.25'], ['21-Aug-2024', '1,675', '965.676', None, '07-Jun-2023', '92.59', '1,55,086.74', '', '92.59', '1,55,086.74', '441', '', '14,62,420.43', '14,62,420.43'], ['22-Aug-2024', '1,500', '958.578', None, '07-Jun-2023', '92.59', '1,38,883.65', '', '92.59', '1,38,883.65', '442', '', '12,98,983.35', '12,98,983.35'], ['22-Aug-2024', '1,000', '958.578', None, '07-Jun-2023', '92.59', '92,589.10', '', '92.59', '92,589.10', '442', '', '8,65,988.90', '8,65,988.90'], ['23-Aug-2024', '500', '961.028', None, '07-Jun-2023', '92.59', '46,294.55', '', '92.59', '46,294.55', '443', '', '4,34,219.41', '4,34,219.41'], ['23-Aug-2024', '500', '961.028', None, '07-Jun-2023', '92.59', '46,294.55', '', '92.59', '46,294.55', '443', '', '4,34,219.41', '4,34,219.41'], ['27-Aug-2024', '1,500', '952.451', None, '07-Jun-2023', '92.59', '1,38,883.65', '', '92.59', '1,38,883.65', '447', '', '12,89,792.25', '12,89,792.25'], ['28-Aug-2024', '1,000', '970.146', None, '07-Jun-2023', '92.59', '92,589.10', '', '92.59', '92,589.10', '448', '', '8,77,557.23', '8,77,557.23'], ['28-Aug-2024', '1,000', '970.146', None, '07-Jun-2023', '92.59', '92,589.10', '', '92.59', '92,589.10', '448', '', '8,77,557.23', '8,77,557.23'], ['28-Aug-2024', '1,000', '970.146', None, '07-Jun-2023', '92.59', '92,589.10', '', '92.59', '92,589.10', '448', '', '8,77,557.23', '8,77,557.23'], ['Total', '100000', '', None, '', '', '90,83,997.88', '', '', '90,83,997.88', '', '3,51,85,931.9\\n1', '2,27,22,683.8\\n0', '2,27,22,683.8\\n0'], ['W S INDUSTRIES', '(INDIA) LTD', '', '', '', '', '', '', '', '', '', '', '', ''], ['09-Apr-2024', '315', '152.758', '48,118.79\\n48,89,204.30\\n1,36,879.02\\n23,83,437.21\\n74,57,639.32', '19-Jun-2023', '98.37', '30,987.15', '', '98.37', '30,987.15', '295', '17,131.63', '', ''], ['10-Apr-2024', '32,086', '152.378', None, '10-Jul-2023', '97.02', '31,13,022.22', '', '97.02', '31,13,022.22', '275', '17,76,182.71', '', ''], ['12-Apr-2024', '914', '149.758', None, '10-Jul-2023', '97.02', '88,677.38', '', '97.02', '88,677.38', '277', '48,201.66', '', ''], ['15-Apr-2024', '17,000', '140.202', None, '10-Jul-2023', '97.02', '16,49,360.40', '', '97.02', '16,49,360.40', '280', '7,34,077.15', '', ''], ['Total', '50315', '', None, '', '', '48,82,047.15', '', '', '48,82,047.15', '', '25,75,593.15', '', ''], ['YES BANK LTD', '', '', '', '', '', '', '', '', '', '', '', '', ''], ['31-Jul-2024', '1,00,000', '26.744', '26,74,356.79\\n26,74,356.79\\n21,21,383.12\\n16,92,578.68\\n16,92,578.68\\n16,92,578.68\\n16,92,578.68\\n1,42,40,411.42', '05-Jul-2024', '26.46', '26,46,040.00', '', '26.46', '26,46,040.00', '26', '28,318.67', '', ''], ['31-Jul-2024', '1,00,000', '26.744', None, '05-Jul-2024', '26.46', '26,46,040.00', '', '26.46', '26,46,040.00', '26', '28,318.67', '', ''], ['17-Dec-2024', '1,00,000', '21.214', None, '05-Jul-2024', '26.46', '26,46,040.00', '', '26.46', '26,46,040.00', '165', '(5,24,655.00)', '', ''], ['27-Mar-2025', '1,00,000', '16.926', None, '05-Jul-2024', '26.46', '26,46,040.00', '', '26.46', '26,46,040.00', '265', '(9,53,459.45)', '', ''], ['27-Mar-2025', '1,00,000', '16.926', None, '05-Jul-2024', '26.46', '26,46,040.00', '', '26.46', '26,46,040.00', '265', '(9,53,459.45)', '', ''], ['27-Mar-2025', '1,00,000', '16.926', None, '05-Jul-2024', '26.46', '26,46,040.00', '', '26.46', '26,46,040.00', '265', '(9,53,459.45)', '', ''], ['27-Mar-2025', '1,00,000', '16.926', None, '05-Jul-2024', '26.46', '26,46,040.00', '', '26.46', '26,46,040.00', '265', '(9,53,459.45)', '', ''], ['Total', '700000', '', None, '', '', '1,85,22,280.00', '', '', '1,85,22,280.00', '', '(42,81,855.4\\n6)', '', ''], ['ZEE ENTERTAIN', 'MENT ENTERPR', 'ISES LTD', '', '', '', '', '', '', '', '', '', '', '']]\n"
     ]
    }
   ],
   "source": [
    "print(z)"
   ]
  },
  {
   "cell_type": "code",
   "execution_count": 11,
   "id": "0773c78a",
   "metadata": {},
   "outputs": [],
   "source": [
    "import pandas\n",
    "import numpy as np\n",
    "df = pandas.DataFrame(data)"
   ]
  },
  {
   "cell_type": "code",
   "execution_count": 13,
   "id": "b02f434a",
   "metadata": {},
   "outputs": [
    {
     "name": "stderr",
     "output_type": "stream",
     "text": [
      "c:\\Users\\DELL\\coe\\.venv\\Lib\\site-packages\\pypdf\\_crypt_providers\\_cryptography.py:32: CryptographyDeprecationWarning: ARC4 has been moved to cryptography.hazmat.decrepit.ciphers.algorithms.ARC4 and will be removed from cryptography.hazmat.primitives.ciphers.algorithms in 48.0.0.\n",
      "  from cryptography.hazmat.primitives.ciphers.algorithms import AES, ARC4\n"
     ]
    }
   ],
   "source": [
    "import camelot"
   ]
  },
  {
   "cell_type": "code",
   "execution_count": 26,
   "id": "2897e746",
   "metadata": {},
   "outputs": [],
   "source": [
    "tables = camelot.read_pdf(pdf_path, pages=\"80-140\",flavor='stream')"
   ]
  },
  {
   "cell_type": "code",
   "execution_count": 34,
   "id": "92d79840",
   "metadata": {},
   "outputs": [
    {
     "name": "stdout",
     "output_type": "stream",
     "text": [
      "<Table shape=(37, 14)>\n"
     ]
    }
   ],
   "source": [
    "print(tables[26])"
   ]
  },
  {
   "cell_type": "code",
   "execution_count": 27,
   "id": "e1447af8",
   "metadata": {},
   "outputs": [],
   "source": [
    "df = tables[0].df"
   ]
  },
  {
   "cell_type": "code",
   "execution_count": 28,
   "id": "a9371175",
   "metadata": {},
   "outputs": [],
   "source": [
    "df1 = tables[1].df"
   ]
  },
  {
   "cell_type": "code",
   "execution_count": null,
   "id": "2476f4d7",
   "metadata": {},
   "outputs": [],
   "source": [
    "df1 = tables[1].df"
   ]
  },
  {
   "cell_type": "code",
   "execution_count": 35,
   "id": "edf16ee0",
   "metadata": {},
   "outputs": [],
   "source": [
    "df_main = pandas.DataFrame()\n",
    "\n",
    "for table in tables:\n",
    "    df_main = pandas.concat([df_main, table.df], ignore_index=True)"
   ]
  }
 ],
 "metadata": {
  "kernelspec": {
   "display_name": ".venv",
   "language": "python",
   "name": "python3"
  },
  "language_info": {
   "codemirror_mode": {
    "name": "ipython",
    "version": 3
   },
   "file_extension": ".py",
   "mimetype": "text/x-python",
   "name": "python",
   "nbconvert_exporter": "python",
   "pygments_lexer": "ipython3",
   "version": "3.11.9"
  }
 },
 "nbformat": 4,
 "nbformat_minor": 5
}
