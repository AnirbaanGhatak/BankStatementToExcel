{
 "cells": [
  {
   "cell_type": "code",
   "execution_count": 328,
   "id": "b02f434a",
   "metadata": {},
   "outputs": [],
   "source": [
    "import camelot\n",
    "import pandas\n",
    "import numpy as np"
   ]
  },
  {
   "cell_type": "code",
   "execution_count": 329,
   "id": "2897e746",
   "metadata": {},
   "outputs": [],
   "source": [
    "# tables = camelot.read_pdf(\"JBCAP.pdf\", pages=\"80-140\",flavor='stream')"
   ]
  },
  {
   "cell_type": "code",
   "execution_count": 330,
   "id": "92d79840",
   "metadata": {},
   "outputs": [
    {
     "name": "stdout",
     "output_type": "stream",
     "text": [
      "<Table shape=(37, 14)>\n"
     ]
    }
   ],
   "source": [
    "print(tables[26])"
   ]
  },
  {
   "cell_type": "code",
   "execution_count": 331,
   "id": "edf16ee0",
   "metadata": {},
   "outputs": [],
   "source": [
    "df_main = pandas.DataFrame()\n",
    "\n",
    "for table in tables:\n",
    "    df_main = pandas.concat([df_main, table.df], ignore_index=True)"
   ]
  },
  {
   "cell_type": "code",
   "execution_count": 332,
   "id": "d274f2c2",
   "metadata": {},
   "outputs": [],
   "source": [
    "key_words = ['Direct Equity','Sell Date']"
   ]
  },
  {
   "cell_type": "code",
   "execution_count": 333,
   "id": "2ea06582",
   "metadata": {},
   "outputs": [],
   "source": [
    "r1 = df_main[0].value_counts()['Sell Date']"
   ]
  },
  {
   "cell_type": "code",
   "execution_count": 334,
   "id": "4ae70ae4",
   "metadata": {},
   "outputs": [],
   "source": [
    "for x in range(0,r1):\n",
    "    start_label_index = df_main.index[df_main[0] == key_words[0]][0]\n",
    "    end_label_index = df_main.index[df_main[0] == key_words[1]][0]\n",
    "    start_pos = df_main.index.get_loc(start_label_index)\n",
    "    end_pos = df_main.index.get_loc(end_label_index)\n",
    "\n",
    "    end_pos = end_pos+3\n",
    "    indices_to_drop = df_main.iloc[start_pos:end_pos].index\n",
    "\n",
    "    df_main.drop(indices_to_drop, inplace=True)"
   ]
  },
  {
   "cell_type": "code",
   "execution_count": 335,
   "id": "d9592446",
   "metadata": {},
   "outputs": [],
   "source": [
    "words = [\"Vimuras Family Private Trust\", \"\\\\*Refer Disclaimer at the end of the report.\",\"Equity\",\"Taxable Gain & Loss Statement\"]\n",
    "pattern = \"|\".join(words)"
   ]
  },
  {
   "cell_type": "markdown",
   "id": "898faf63",
   "metadata": {},
   "source": [
    "Check each row if it has the above if so then delete the row, proboly need to loop"
   ]
  },
  {
   "cell_type": "code",
   "execution_count": 336,
   "id": "a92e4581",
   "metadata": {},
   "outputs": [],
   "source": [
    "df_main = df_main[~df_main[0].str.contains(pattern, na=False, case=False)]\n",
    "df_main = df_main[~df_main[5].str.contains(pattern, na=False, case=False)]"
   ]
  },
  {
   "cell_type": "code",
   "execution_count": 337,
   "id": "1079ed16",
   "metadata": {},
   "outputs": [],
   "source": [
    "df_main.reset_index(inplace=True,drop=True)"
   ]
  },
  {
   "cell_type": "code",
   "execution_count": 338,
   "id": "5b43714e",
   "metadata": {},
   "outputs": [],
   "source": [
    "def is_comp(val):\n",
    "    if not isinstance(val, str):\n",
    "        return False\n",
    "\n",
    "    # 2. Strip whitespace from the string. This is the key change.\n",
    "    #    \"   Company A   \" -> \"Company A\"\n",
    "    #    \"       \"         -> \"\"\n",
    "    cleaned_val = val.strip()\n",
    "\n",
    "    # 3. Check if the cleaned string is empty. If it is, it's not a company name.\n",
    "    #    This now correctly handles strings that were originally just whitespace.\n",
    "    if not cleaned_val:\n",
    "        return False\n",
    "\n",
    "    # 4. Now that we know we have a non-empty, cleaned string, apply the final rules.\n",
    "    if cleaned_val.lower() == 'total' or cleaned_val[0].isdigit():\n",
    "        return False\n",
    "\n",
    "    # 5. If it passed all the checks, it's a company name.\n",
    "    return True\n"
   ]
  },
  {
   "cell_type": "code",
   "execution_count": 339,
   "id": "4103e710",
   "metadata": {},
   "outputs": [],
   "source": [
    "mask1 = df_main[0].apply(is_comp)\n",
    "mask2 = df_main[1].apply(is_comp)\n"
   ]
  },
  {
   "cell_type": "code",
   "execution_count": 340,
   "id": "faeb807b",
   "metadata": {},
   "outputs": [
    {
     "data": {
      "application/vnd.microsoft.datawrangler.viewer.v0+json": {
       "columns": [
        {
         "name": "index",
         "rawType": "bool",
         "type": "boolean"
        },
        {
         "name": "count",
         "rawType": "int64",
         "type": "integer"
        }
       ],
       "ref": "b766d2b5-a719-45d0-bf08-facec863d97a",
       "rows": [
        [
         "False",
         "2492"
        ],
        [
         "True",
         "201"
        ]
       ],
       "shape": {
        "columns": 1,
        "rows": 2
       }
      },
      "text/plain": [
       "0\n",
       "False    2492\n",
       "True      201\n",
       "Name: count, dtype: int64"
      ]
     },
     "execution_count": 340,
     "metadata": {},
     "output_type": "execute_result"
    }
   ],
   "source": [
    "mask1.value_counts()"
   ]
  },
  {
   "cell_type": "code",
   "execution_count": 341,
   "id": "85ba4a50",
   "metadata": {},
   "outputs": [],
   "source": [
    "combine_mask = mask1 | mask2"
   ]
  },
  {
   "cell_type": "code",
   "execution_count": 342,
   "id": "efb56f71",
   "metadata": {},
   "outputs": [],
   "source": [
    "company_names = pandas.Series(np.where(mask1, df_main[0], df_main[1]))"
   ]
  },
  {
   "cell_type": "code",
   "execution_count": 343,
   "id": "770f8782",
   "metadata": {},
   "outputs": [],
   "source": [
    "company_col = company_names.where(combine_mask).ffill()"
   ]
  },
  {
   "cell_type": "code",
   "execution_count": 344,
   "id": "e46efd52",
   "metadata": {},
   "outputs": [],
   "source": [
    "df_main = df_main[~combine_mask]"
   ]
  },
  {
   "cell_type": "code",
   "execution_count": 345,
   "id": "7b2b8d10",
   "metadata": {},
   "outputs": [],
   "source": [
    "df_main.insert(0, \"Company\", company_col)"
   ]
  },
  {
   "cell_type": "code",
   "execution_count": 347,
   "id": "70cd6634",
   "metadata": {},
   "outputs": [],
   "source": [
    "df_main.columns = [\"Company\", \"Sell Date\", \"Quantity\", \"Sell Rate\", \"Total Sale Value\", \"Purchase Date\", \"Purchase Rate\",\"Actual Cost\", \"FMV as on 31-01-2018/Indexed Rate\", \"Applicable Rate\", \"Effective Cost\", \"Days Held\", \"Short Term\", \"Long Term\", \"Effective LT\"]"
   ]
  }
 ],
 "metadata": {
  "kernelspec": {
   "display_name": ".venv",
   "language": "python",
   "name": "python3"
  },
  "language_info": {
   "codemirror_mode": {
    "name": "ipython",
    "version": 3
   },
   "file_extension": ".py",
   "mimetype": "text/x-python",
   "name": "python",
   "nbconvert_exporter": "python",
   "pygments_lexer": "ipython3",
   "version": "3.11.9"
  }
 },
 "nbformat": 4,
 "nbformat_minor": 5
}
